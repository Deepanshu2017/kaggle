{
 "cells": [
  {
   "cell_type": "markdown",
   "metadata": {},
   "source": [
    "###### Import libraries and create data"
   ]
  },
  {
   "cell_type": "code",
   "execution_count": 1,
   "metadata": {},
   "outputs": [
    {
     "data": {
      "text/plain": [
       "'1.0.39'"
      ]
     },
     "execution_count": 1,
     "metadata": {},
     "output_type": "execute_result"
    }
   ],
   "source": [
    "import fastai\n",
    "fastai.__version__"
   ]
  },
  {
   "cell_type": "code",
   "execution_count": 2,
   "metadata": {},
   "outputs": [],
   "source": [
    "import numpy as np # linear algebra\n",
    "import pandas as pd # data processing, CSV file I/O (e.g. pd.read_csv)\n",
    "\n",
    "import os\n",
    "import pandas as pd\n",
    "from pathlib import Path\n",
    "import numpy as np\n",
    "import torch\n",
    "import torch.nn as nn\n",
    "import torch.nn.functional as F\n",
    "\n",
    "from fastai import *\n",
    "from fastai.vision import *\n",
    "from fastai.vision.image import *\n",
    "from fastai.callbacks import *\n",
    "import torchvision\n",
    "from fastai import basic_train\n",
    "from torchvision.models.inception import BasicConv2d, InceptionA, InceptionB, InceptionC, InceptionD, InceptionE, InceptionAux\n",
    "\n",
    "import cv2\n",
    "\n",
    "from torchvision import models\n",
    "from pretrainedmodels.models import bninception\n",
    "from torch import nn\n",
    "from collections import OrderedDict\n",
    "import torch.nn.functional as F\n",
    "\n",
    "import pickle"
   ]
  },
  {
   "cell_type": "code",
   "execution_count": 3,
   "metadata": {},
   "outputs": [],
   "source": [
    "np.random.seed(42)"
   ]
  },
  {
   "cell_type": "code",
   "execution_count": 4,
   "metadata": {},
   "outputs": [],
   "source": [
    "path = Path('data')"
   ]
  },
  {
   "cell_type": "code",
   "execution_count": 5,
   "metadata": {},
   "outputs": [],
   "source": [
    "train_df = pd.read_csv(path / 'train.csv')"
   ]
  },
  {
   "cell_type": "code",
   "execution_count": 6,
   "metadata": {},
   "outputs": [],
   "source": [
    "Target = train_df.Target.str.split()"
   ]
  },
  {
   "cell_type": "code",
   "execution_count": 7,
   "metadata": {},
   "outputs": [
    {
     "name": "stdout",
     "output_type": "stream",
     "text": [
      "CPU times: user 8.22 s, sys: 0 ns, total: 8.22 s\n",
      "Wall time: 8.22 s\n"
     ]
    }
   ],
   "source": [
    "%%time\n",
    "idxes = list()\n",
    "for i in range(28):\n",
    "    idxes.append([])\n",
    "    for j in range(len(Target)):\n",
    "        if str(i) in Target[j]:\n",
    "            idxes[i].append(j)\n",
    "            "
   ]
  },
  {
   "cell_type": "code",
   "execution_count": 8,
   "metadata": {},
   "outputs": [
    {
     "name": "stdout",
     "output_type": "stream",
     "text": [
      "0 12885\n",
      "1 1254\n",
      "2 3621\n",
      "3 1561\n",
      "4 1858\n",
      "5 2513\n",
      "6 1008\n",
      "7 2822\n",
      "8 53\n",
      "9 45\n",
      "10 28\n",
      "11 1093\n",
      "12 688\n",
      "13 537\n",
      "14 1066\n",
      "15 21\n",
      "16 530\n",
      "17 210\n",
      "18 902\n",
      "19 1482\n",
      "20 172\n",
      "21 3777\n",
      "22 802\n",
      "23 2965\n",
      "24 322\n",
      "25 8228\n",
      "26 328\n",
      "27 11\n"
     ]
    }
   ],
   "source": [
    "for i in range(28):\n",
    "    print(i, len(idxes[i]))"
   ]
  },
  {
   "cell_type": "code",
   "execution_count": 9,
   "metadata": {},
   "outputs": [],
   "source": [
    "tmp_train_df = train_df.copy()"
   ]
  },
  {
   "cell_type": "code",
   "execution_count": 10,
   "metadata": {},
   "outputs": [],
   "source": [
    "cell_8 = train_df.iloc[idxes[8]]"
   ]
  },
  {
   "cell_type": "code",
   "execution_count": 11,
   "metadata": {},
   "outputs": [],
   "source": [
    "tmp_train_df = tmp_train_df.append(cell_8, ignore_index=True, verify_integrity=True)\n",
    "tmp_train_df = tmp_train_df.append(cell_8, ignore_index=True, verify_integrity=True)\n",
    "tmp_train_df = tmp_train_df.append(cell_8, ignore_index=True, verify_integrity=True)\n",
    "tmp_train_df = tmp_train_df.append(cell_8, ignore_index=True, verify_integrity=True)\n",
    "tmp_train_df = tmp_train_df.append(cell_8, ignore_index=True, verify_integrity=True)\n",
    "tmp_train_df = tmp_train_df.append(cell_8, ignore_index=True, verify_integrity=True)\n",
    "tmp_train_df = tmp_train_df.append(cell_8, ignore_index=True, verify_integrity=True)\n",
    "tmp_train_df = tmp_train_df.append(cell_8, ignore_index=True, verify_integrity=True)"
   ]
  },
  {
   "cell_type": "code",
   "execution_count": 12,
   "metadata": {},
   "outputs": [],
   "source": [
    "cell_9 = train_df.iloc[idxes[9]]"
   ]
  },
  {
   "cell_type": "code",
   "execution_count": 13,
   "metadata": {},
   "outputs": [],
   "source": [
    "tmp_train_df = tmp_train_df.append(cell_9, ignore_index=True, verify_integrity=True)\n",
    "tmp_train_df = tmp_train_df.append(cell_9, ignore_index=True, verify_integrity=True)\n",
    "tmp_train_df = tmp_train_df.append(cell_9, ignore_index=True, verify_integrity=True)\n",
    "tmp_train_df = tmp_train_df.append(cell_9, ignore_index=True, verify_integrity=True)\n",
    "tmp_train_df = tmp_train_df.append(cell_9, ignore_index=True, verify_integrity=True)\n",
    "tmp_train_df = tmp_train_df.append(cell_9, ignore_index=True, verify_integrity=True)\n",
    "tmp_train_df = tmp_train_df.append(cell_9, ignore_index=True, verify_integrity=True)\n",
    "tmp_train_df = tmp_train_df.append(cell_9, ignore_index=True, verify_integrity=True)"
   ]
  },
  {
   "cell_type": "code",
   "execution_count": 14,
   "metadata": {},
   "outputs": [],
   "source": [
    "cell_10 = train_df.iloc[idxes[10]]"
   ]
  },
  {
   "cell_type": "code",
   "execution_count": 15,
   "metadata": {},
   "outputs": [],
   "source": [
    "tmp_train_df = tmp_train_df.append(cell_10, ignore_index=True, verify_integrity=True)\n",
    "tmp_train_df = tmp_train_df.append(cell_10, ignore_index=True, verify_integrity=True)\n",
    "tmp_train_df = tmp_train_df.append(cell_10, ignore_index=True, verify_integrity=True)\n",
    "tmp_train_df = tmp_train_df.append(cell_10, ignore_index=True, verify_integrity=True)\n",
    "tmp_train_df = tmp_train_df.append(cell_10, ignore_index=True, verify_integrity=True)\n",
    "tmp_train_df = tmp_train_df.append(cell_10, ignore_index=True, verify_integrity=True)\n",
    "tmp_train_df = tmp_train_df.append(cell_10, ignore_index=True, verify_integrity=True)\n",
    "tmp_train_df = tmp_train_df.append(cell_10, ignore_index=True, verify_integrity=True)\n",
    "tmp_train_df = tmp_train_df.append(cell_10, ignore_index=True, verify_integrity=True)\n",
    "tmp_train_df = tmp_train_df.append(cell_10, ignore_index=True, verify_integrity=True)"
   ]
  },
  {
   "cell_type": "code",
   "execution_count": 16,
   "metadata": {},
   "outputs": [],
   "source": [
    "cell_15 = train_df.iloc[idxes[15]]"
   ]
  },
  {
   "cell_type": "code",
   "execution_count": 17,
   "metadata": {},
   "outputs": [],
   "source": [
    "tmp_train_df = tmp_train_df.append(cell_15, ignore_index=True, verify_integrity=True)\n",
    "tmp_train_df = tmp_train_df.append(cell_15, ignore_index=True, verify_integrity=True)\n",
    "tmp_train_df = tmp_train_df.append(cell_15, ignore_index=True, verify_integrity=True)\n",
    "tmp_train_df = tmp_train_df.append(cell_15, ignore_index=True, verify_integrity=True)\n",
    "tmp_train_df = tmp_train_df.append(cell_15, ignore_index=True, verify_integrity=True)\n",
    "tmp_train_df = tmp_train_df.append(cell_15, ignore_index=True, verify_integrity=True)\n",
    "tmp_train_df = tmp_train_df.append(cell_15, ignore_index=True, verify_integrity=True)\n",
    "tmp_train_df = tmp_train_df.append(cell_15, ignore_index=True, verify_integrity=True)\n",
    "tmp_train_df = tmp_train_df.append(cell_15, ignore_index=True, verify_integrity=True)\n",
    "tmp_train_df = tmp_train_df.append(cell_15, ignore_index=True, verify_integrity=True)"
   ]
  },
  {
   "cell_type": "code",
   "execution_count": 18,
   "metadata": {},
   "outputs": [],
   "source": [
    "cell_27 = train_df.iloc[idxes[27]]"
   ]
  },
  {
   "cell_type": "code",
   "execution_count": 19,
   "metadata": {},
   "outputs": [],
   "source": [
    "tmp_train_df = tmp_train_df.append(cell_27, ignore_index=True, verify_integrity=True)\n",
    "tmp_train_df = tmp_train_df.append(cell_27, ignore_index=True, verify_integrity=True)\n",
    "tmp_train_df = tmp_train_df.append(cell_27, ignore_index=True, verify_integrity=True)\n",
    "tmp_train_df = tmp_train_df.append(cell_27, ignore_index=True, verify_integrity=True)\n",
    "tmp_train_df = tmp_train_df.append(cell_27, ignore_index=True, verify_integrity=True)\n",
    "tmp_train_df = tmp_train_df.append(cell_27, ignore_index=True, verify_integrity=True)\n",
    "tmp_train_df = tmp_train_df.append(cell_27, ignore_index=True, verify_integrity=True)\n",
    "tmp_train_df = tmp_train_df.append(cell_27, ignore_index=True, verify_integrity=True)\n",
    "tmp_train_df = tmp_train_df.append(cell_27, ignore_index=True, verify_integrity=True)\n",
    "tmp_train_df = tmp_train_df.append(cell_27, ignore_index=True, verify_integrity=True)"
   ]
  },
  {
   "cell_type": "code",
   "execution_count": 20,
   "metadata": {},
   "outputs": [],
   "source": [
    "cell_17 = train_df.iloc[idxes[17]]"
   ]
  },
  {
   "cell_type": "code",
   "execution_count": 21,
   "metadata": {},
   "outputs": [],
   "source": [
    "tmp_train_df = tmp_train_df.append(cell_17, ignore_index=True, verify_integrity=True)\n",
    "tmp_train_df = tmp_train_df.append(cell_17, ignore_index=True, verify_integrity=True)\n",
    "tmp_train_df = tmp_train_df.append(cell_17, ignore_index=True, verify_integrity=True)\n",
    "tmp_train_df = tmp_train_df.append(cell_17, ignore_index=True, verify_integrity=True)\n",
    "tmp_train_df = tmp_train_df.append(cell_17, ignore_index=True, verify_integrity=True)\n",
    "tmp_train_df = tmp_train_df.append(cell_17, ignore_index=True, verify_integrity=True)"
   ]
  },
  {
   "cell_type": "code",
   "execution_count": 22,
   "metadata": {},
   "outputs": [],
   "source": [
    "cell_20 = train_df.iloc[idxes[20]]"
   ]
  },
  {
   "cell_type": "code",
   "execution_count": 23,
   "metadata": {},
   "outputs": [],
   "source": [
    "tmp_train_df = tmp_train_df.append(cell_20, ignore_index=True, verify_integrity=True)\n",
    "tmp_train_df = tmp_train_df.append(cell_20, ignore_index=True, verify_integrity=True)\n",
    "tmp_train_df = tmp_train_df.append(cell_20, ignore_index=True, verify_integrity=True)\n",
    "tmp_train_df = tmp_train_df.append(cell_20, ignore_index=True, verify_integrity=True)\n",
    "tmp_train_df = tmp_train_df.append(cell_20, ignore_index=True, verify_integrity=True)\n",
    "tmp_train_df = tmp_train_df.append(cell_20, ignore_index=True, verify_integrity=True)"
   ]
  },
  {
   "cell_type": "code",
   "execution_count": 24,
   "metadata": {},
   "outputs": [],
   "source": [
    "RESNET_ENCODERS = {\n",
    "    34: torchvision.models.resnet34,\n",
    "    50: torchvision.models.resnet50,\n",
    "    101: torchvision.models.resnet101,\n",
    "    152: torchvision.models.resnet152,\n",
    "}"
   ]
  },
  {
   "cell_type": "code",
   "execution_count": 25,
   "metadata": {},
   "outputs": [],
   "source": [
    "class Resnet4Channel(nn.Module):\n",
    "    \n",
    "    def __init__(self, encoder_depth=34, pretrained=True, num_classes=28):\n",
    "        super().__init__()\n",
    "        encoder = RESNET_ENCODERS[encoder_depth](pretrained=pretrained)\n",
    "        w = encoder.conv1.weight\n",
    "        \n",
    "        self.conv1 = nn.Conv2d(4, 64, kernel_size=7, stride=2, padding=3, bias=False)\n",
    "        self.conv1.weight = nn.Parameter(torch.cat((w, torch.zeros(64, 1, 7, 7)), dim=1))\n",
    "        self.bn1 = encoder.bn1\n",
    "        self.relu = nn.ReLU(inplace=True)\n",
    "        self.maxpool = nn.MaxPool2d(kernel_size=3, stride=2, padding=1, dilation=1, ceil_mode=False)\n",
    "        \n",
    "        self.layer1 = encoder.layer1\n",
    "        self.layer2 = encoder.layer2\n",
    "        self.layer3 = encoder.layer3\n",
    "        self.layer4 = encoder.layer4\n",
    "        \n",
    "        self.avgpool = nn.AdaptiveAvgPool2d(1)\n",
    "        self.fc = nn.Sequential(\n",
    "            nn.BatchNorm1d(2048),\n",
    "            nn.Dropout(0.5),\n",
    "            nn.Linear(2048, 28),\n",
    "        )\n",
    "        \n",
    "    def forward(self, x):\n",
    "        x = self.conv1(x)\n",
    "        x = self.bn1(x)\n",
    "        x = self.relu(x)\n",
    "        x = self.maxpool(x)\n",
    "\n",
    "        x = self.layer1(x)\n",
    "        x = self.layer2(x)\n",
    "        x = self.layer3(x)\n",
    "        x = self.layer4(x)\n",
    "\n",
    "        x = self.avgpool(x)\n",
    "        \n",
    "        x = x.view(x.size(0), -1)\n",
    "        x = self.fc(x)\n",
    "\n",
    "\n",
    "        return x"
   ]
  },
  {
   "cell_type": "code",
   "execution_count": 26,
   "metadata": {},
   "outputs": [],
   "source": [
    "def open_4_channel(fname):\n",
    "    fname = str(fname)\n",
    "    if fname.endswith(\".png\"):\n",
    "        fname = fname[:-4]\n",
    "        \n",
    "    colors = ['red', 'green', 'blue', 'yellow']\n",
    "    flags = cv2.IMREAD_GRAYSCALE\n",
    "    \n",
    "    img = [cv2.imread(fname + '_' + color + '.png', flags).astype(np.float32) / 255 for color in colors]\n",
    "    \n",
    "    x = np.stack(img, axis=-1)\n",
    "    \n",
    "    return Image(pil2tensor(x, np.float32).float())"
   ]
  },
  {
   "cell_type": "code",
   "execution_count": 27,
   "metadata": {},
   "outputs": [],
   "source": [
    "# src = (ImageItemList.from_csv(path, 'train.csv', folder='train', suffix='.png')\n",
    "#       .random_split_by_pct(0.2)\n",
    "#       .label_from_df(sep=' ', classes=[str(i) for i in range(28)]))"
   ]
  },
  {
   "cell_type": "code",
   "execution_count": 28,
   "metadata": {},
   "outputs": [],
   "source": [
    "src = (ImageItemList.from_df(tmp_train_df, path, folder='train', suffix='.png')\n",
    "      .random_split_by_pct(0.2)\n",
    "      .label_from_df(sep=' ', classes=[str(i) for i in range(28)]))"
   ]
  },
  {
   "cell_type": "code",
   "execution_count": 29,
   "metadata": {},
   "outputs": [],
   "source": [
    "src.train.x.open = open_4_channel\n",
    "src.train.x.create_func = open_4_channel"
   ]
  },
  {
   "cell_type": "code",
   "execution_count": 30,
   "metadata": {},
   "outputs": [],
   "source": [
    "src.valid.x.open = open_4_channel\n",
    "src.valid.x.create_func = open_4_channel"
   ]
  },
  {
   "cell_type": "code",
   "execution_count": 31,
   "metadata": {},
   "outputs": [],
   "source": [
    "test_ids = list(sorted(set(fname.split('_')[0] for fname in os.listdir(path / 'test'))))"
   ]
  },
  {
   "cell_type": "code",
   "execution_count": 32,
   "metadata": {},
   "outputs": [],
   "source": [
    "test_fnames = [path/'test'/test_id for test_id in test_ids]"
   ]
  },
  {
   "cell_type": "code",
   "execution_count": 33,
   "metadata": {},
   "outputs": [],
   "source": [
    "src.add_test(test_fnames, label='0');"
   ]
  },
  {
   "cell_type": "code",
   "execution_count": 34,
   "metadata": {},
   "outputs": [],
   "source": [
    "src.test.x.open = open_4_channel\n",
    "src.test.x.create_func = open_4_channel"
   ]
  },
  {
   "cell_type": "code",
   "execution_count": 35,
   "metadata": {},
   "outputs": [],
   "source": [
    "protein_stats = ([0.08069, 0.05258, 0.05487, 0.08282], [0.13704, 0.10145, 0.15313, 0.13814])"
   ]
  },
  {
   "cell_type": "code",
   "execution_count": 36,
   "metadata": {},
   "outputs": [],
   "source": [
    "trn_tfms, _ = get_transforms(do_flip=True, flip_vert=True, max_rotate=30., max_zoom=1, max_lighting=0.05, max_warp=0.01)"
   ]
  },
  {
   "cell_type": "code",
   "execution_count": 37,
   "metadata": {},
   "outputs": [],
   "source": [
    "data = (src.transform((trn_tfms, _), size=512).databunch(bs=24).normalize(protein_stats))"
   ]
  },
  {
   "cell_type": "code",
   "execution_count": 38,
   "metadata": {},
   "outputs": [],
   "source": [
    "# data.show_batch(rows=3, figsize=(12,9))"
   ]
  },
  {
   "cell_type": "code",
   "execution_count": 39,
   "metadata": {},
   "outputs": [],
   "source": [
    "def myresnet50(pretrained):\n",
    "    return Resnet4Channel(encoder_depth=50)"
   ]
  },
  {
   "cell_type": "code",
   "execution_count": 40,
   "metadata": {},
   "outputs": [],
   "source": [
    "f1_score = partial(fbeta, thresh=0.2, beta=1)"
   ]
  },
  {
   "cell_type": "code",
   "execution_count": 41,
   "metadata": {},
   "outputs": [],
   "source": [
    "loss_fn = F.binary_cross_entropy_with_logits\n",
    "model = myresnet50(True)\n",
    "optim = torch.optim.SGD"
   ]
  },
  {
   "cell_type": "code",
   "execution_count": 42,
   "metadata": {},
   "outputs": [],
   "source": [
    "def custom_loss_func(model:nn.Module, xb:Tensor, yb:Tensor, loss_func:OptLossFunc=None, opt:OptOptimizer=None,\n",
    "               cb_handler:Optional[CallbackHandler]=None)->Tuple[Union[Tensor,int,float,str]]:\n",
    "    if not is_listy(xb): xb = [xb]\n",
    "    if not is_listy(yb): yb = [yb]\n",
    "    out = model(*xb)\n",
    "    out = cb_handler.on_loss_begin(out)\n",
    "\n",
    "    if not loss_func: return to_detach(out), yb[0].detach()\n",
    "    loss = loss_func(out, *yb)\n",
    "    \n",
    "    return loss"
   ]
  },
  {
   "cell_type": "code",
   "execution_count": 43,
   "metadata": {},
   "outputs": [],
   "source": [
    "def custom_fit(epochs:int, model:nn.Module, loss_func:LossFunction, opt:torch.optim.Optimizer,\n",
    "        data:DataBunch, callbacks:Optional[CallbackList]=None, metrics:OptMetrics=None,\n",
    "        gradient_accumulation_steps:int=16)->None:\n",
    "    \"Fit the `model` on `data` and learn using `loss_func` and `opt`.\"\n",
    "    cb_handler = CallbackHandler(callbacks, metrics)\n",
    "    pbar = master_bar(range(epochs))\n",
    "    cb_handler.on_train_begin(epochs, pbar=pbar, metrics=metrics)\n",
    "\n",
    "    exception=False\n",
    "    try:\n",
    "        for epoch in pbar:\n",
    "            step = 0\n",
    "            model.train()\n",
    "            cb_handler.on_epoch_begin()\n",
    "\n",
    "            for xb,yb in progress_bar(data.train_dl, parent=pbar):\n",
    "                xb, yb = cb_handler.on_batch_begin(xb, yb)\n",
    "                \n",
    "                loss = custom_loss_func(model, xb, yb, loss_func, cb_handler=cb_handler)\n",
    "                \n",
    "                loss = cb_handler.on_backward_begin(loss)\n",
    "                loss.backward()\n",
    "                cb_handler.on_backward_end()\n",
    "\n",
    "                if (step + 1) % gradient_accumulation_steps == 0:\n",
    "                    opt.step()\n",
    "                    cb_handler.on_step_end()\n",
    "                    opt.zero_grad()\n",
    "                step += 1\n",
    "                \n",
    "                loss = loss.detach().cpu()  \n",
    "                if cb_handler.on_batch_end(loss): break\n",
    "\n",
    "            if not data.empty_val:\n",
    "                val_loss = validate(model, data.valid_dl, loss_func=loss_func, cb_handler=cb_handler, \n",
    "                                    pbar=pbar)\n",
    "            else: val_loss=None\n",
    "            if cb_handler.on_epoch_end(val_loss): break\n",
    "    except Exception as e:\n",
    "        exception = e\n",
    "        raise e\n",
    "    finally: cb_handler.on_train_end(exception)"
   ]
  },
  {
   "cell_type": "code",
   "execution_count": 44,
   "metadata": {},
   "outputs": [],
   "source": [
    "class custom_learner(basic_train.Learner):\n",
    "    def __init__(self, *args, **kwargs):\n",
    "        super().__init__(*args, **kwargs)\n",
    "        \n",
    "    def fit(self, epochs:int, lr:Union[Floats,slice]=defaults.lr, wd:Floats=None, \n",
    "            callbacks:Collection[Callback]=None) -> None:\n",
    "        lr = self.lr_range(lr)\n",
    "        if wd is None: wd = self.wd\n",
    "        if not getattr(self, 'opt', False): self.create_opt(lr, wd)\n",
    "        else: self.opt.lr,self.opt.wd = lr,wd\n",
    "        callbacks = [cb(self) for cb in self.callback_fns] + listify(callbacks)\n",
    "        custom_fit(epochs, self.model, self.loss_func, opt=self.opt, data=self.data, metrics=self.metrics,\n",
    "            callbacks=self.callbacks+callbacks)"
   ]
  },
  {
   "cell_type": "code",
   "execution_count": 45,
   "metadata": {},
   "outputs": [],
   "source": [
    "learn = custom_learner(data, model, opt_func=optim, loss_func=loss_fn, metrics=[f1_score], \n",
    "                           callback_fns=[partial(ReduceLROnPlateauCallback, monitor='val_loss', \n",
    "                                                 patience=3),\n",
    "                                         partial(EarlyStoppingCallback, monitor='val_loss', \n",
    "                                                 min_delta=0.001, patience=9)])"
   ]
  },
  {
   "cell_type": "code",
   "execution_count": null,
   "metadata": {},
   "outputs": [
    {
     "data": {
      "text/html": [
       "\n",
       "    <div>\n",
       "        <style>\n",
       "            /* Turns off some styling */\n",
       "            progress {\n",
       "                /* gets rid of default border in Firefox and Opera. */\n",
       "                border: none;\n",
       "                /* Needs to be in here for Safari polyfill so background images work as expected. */\n",
       "                background-size: auto;\n",
       "            }\n",
       "            .progress-bar-interrupted, .progress-bar-interrupted::-webkit-progress-bar {\n",
       "                background: #F44336;\n",
       "            }\n",
       "        </style>\n",
       "      <progress value='34' class='' max='50', style='width:300px; height:20px; vertical-align: middle;'></progress>\n",
       "      68.00% [34/50 8:40:23<4:04:53]\n",
       "    </div>\n",
       "    \n",
       "<table style='width:300px; margin-bottom:10px'>\n",
       "  <tr>\n",
       "    <th>epoch</th>\n",
       "    <th>train_loss</th>\n",
       "    <th>valid_loss</th>\n",
       "    <th>fbeta</th>\n",
       "  </tr>\n",
       "  <tr>\n",
       "    <th>1</th>\n",
       "    <th>0.202567</th>\n",
       "    <th>0.255509</th>\n",
       "    <th>0.323714</th>\n",
       "  </tr>\n",
       "  <tr>\n",
       "    <th>2</th>\n",
       "    <th>0.185612</th>\n",
       "    <th>0.215241</th>\n",
       "    <th>0.335019</th>\n",
       "  </tr>\n",
       "  <tr>\n",
       "    <th>3</th>\n",
       "    <th>0.175504</th>\n",
       "    <th>0.674475</th>\n",
       "    <th>0.349706</th>\n",
       "  </tr>\n",
       "  <tr>\n",
       "    <th>4</th>\n",
       "    <th>0.172850</th>\n",
       "    <th>0.188015</th>\n",
       "    <th>0.367841</th>\n",
       "  </tr>\n",
       "  <tr>\n",
       "    <th>5</th>\n",
       "    <th>0.168217</th>\n",
       "    <th>0.207368</th>\n",
       "    <th>0.362044</th>\n",
       "  </tr>\n",
       "  <tr>\n",
       "    <th>6</th>\n",
       "    <th>0.159926</th>\n",
       "    <th>0.159537</th>\n",
       "    <th>0.412940</th>\n",
       "  </tr>\n",
       "  <tr>\n",
       "    <th>7</th>\n",
       "    <th>0.154102</th>\n",
       "    <th>0.168445</th>\n",
       "    <th>0.408203</th>\n",
       "  </tr>\n",
       "  <tr>\n",
       "    <th>8</th>\n",
       "    <th>0.145560</th>\n",
       "    <th>0.185565</th>\n",
       "    <th>0.392115</th>\n",
       "  </tr>\n",
       "  <tr>\n",
       "    <th>9</th>\n",
       "    <th>0.145677</th>\n",
       "    <th>0.154939</th>\n",
       "    <th>0.449672</th>\n",
       "  </tr>\n",
       "  <tr>\n",
       "    <th>10</th>\n",
       "    <th>0.143858</th>\n",
       "    <th>0.138522</th>\n",
       "    <th>0.512359</th>\n",
       "  </tr>\n",
       "  <tr>\n",
       "    <th>11</th>\n",
       "    <th>0.135249</th>\n",
       "    <th>0.150886</th>\n",
       "    <th>0.461995</th>\n",
       "  </tr>\n",
       "  <tr>\n",
       "    <th>12</th>\n",
       "    <th>0.132983</th>\n",
       "    <th>0.146898</th>\n",
       "    <th>0.492071</th>\n",
       "  </tr>\n",
       "  <tr>\n",
       "    <th>13</th>\n",
       "    <th>0.131300</th>\n",
       "    <th>0.134739</th>\n",
       "    <th>0.542157</th>\n",
       "  </tr>\n",
       "  <tr>\n",
       "    <th>14</th>\n",
       "    <th>0.129802</th>\n",
       "    <th>0.131321</th>\n",
       "    <th>0.556266</th>\n",
       "  </tr>\n",
       "  <tr>\n",
       "    <th>15</th>\n",
       "    <th>0.129799</th>\n",
       "    <th>0.138926</th>\n",
       "    <th>0.513087</th>\n",
       "  </tr>\n",
       "  <tr>\n",
       "    <th>16</th>\n",
       "    <th>0.128266</th>\n",
       "    <th>0.151712</th>\n",
       "    <th>0.482025</th>\n",
       "  </tr>\n",
       "  <tr>\n",
       "    <th>17</th>\n",
       "    <th>0.125562</th>\n",
       "    <th>0.135538</th>\n",
       "    <th>0.533885</th>\n",
       "  </tr>\n",
       "  <tr>\n",
       "    <th>18</th>\n",
       "    <th>0.128610</th>\n",
       "    <th>0.176870</th>\n",
       "    <th>0.441382</th>\n",
       "  </tr>\n",
       "  <tr>\n",
       "    <th>19</th>\n",
       "    <th>0.111395</th>\n",
       "    <th>0.105421</th>\n",
       "    <th>0.657377</th>\n",
       "  </tr>\n",
       "  <tr>\n",
       "    <th>20</th>\n",
       "    <th>0.111515</th>\n",
       "    <th>0.105249</th>\n",
       "    <th>0.651319</th>\n",
       "  </tr>\n",
       "  <tr>\n",
       "    <th>21</th>\n",
       "    <th>0.107938</th>\n",
       "    <th>0.105082</th>\n",
       "    <th>0.646933</th>\n",
       "  </tr>\n",
       "  <tr>\n",
       "    <th>22</th>\n",
       "    <th>0.106510</th>\n",
       "    <th>0.104754</th>\n",
       "    <th>0.659682</th>\n",
       "  </tr>\n",
       "  <tr>\n",
       "    <th>23</th>\n",
       "    <th>0.106166</th>\n",
       "    <th>0.104339</th>\n",
       "    <th>0.652393</th>\n",
       "  </tr>\n",
       "  <tr>\n",
       "    <th>24</th>\n",
       "    <th>0.102983</th>\n",
       "    <th>0.105278</th>\n",
       "    <th>0.650992</th>\n",
       "  </tr>\n",
       "  <tr>\n",
       "    <th>25</th>\n",
       "    <th>0.105886</th>\n",
       "    <th>0.102993</th>\n",
       "    <th>0.663765</th>\n",
       "  </tr>\n",
       "  <tr>\n",
       "    <th>26</th>\n",
       "    <th>0.102296</th>\n",
       "    <th>0.106630</th>\n",
       "    <th>0.655444</th>\n",
       "  </tr>\n",
       "  <tr>\n",
       "    <th>27</th>\n",
       "    <th>0.103073</th>\n",
       "    <th>0.114222</th>\n",
       "    <th>0.613002</th>\n",
       "  </tr>\n",
       "  <tr>\n",
       "    <th>28</th>\n",
       "    <th>0.105091</th>\n",
       "    <th>0.116739</th>\n",
       "    <th>0.620226</th>\n",
       "  </tr>\n",
       "  <tr>\n",
       "    <th>29</th>\n",
       "    <th>0.101562</th>\n",
       "    <th>0.104196</th>\n",
       "    <th>0.651356</th>\n",
       "  </tr>\n",
       "  <tr>\n",
       "    <th>30</th>\n",
       "    <th>0.097292</th>\n",
       "    <th>0.091837</th>\n",
       "    <th>0.705681</th>\n",
       "  </tr>\n",
       "  <tr>\n",
       "    <th>31</th>\n",
       "    <th>0.093807</th>\n",
       "    <th>0.089815</th>\n",
       "    <th>0.720227</th>\n",
       "  </tr>\n",
       "  <tr>\n",
       "    <th>32</th>\n",
       "    <th>0.094250</th>\n",
       "    <th>0.090179</th>\n",
       "    <th>0.715569</th>\n",
       "  </tr>\n",
       "  <tr>\n",
       "    <th>33</th>\n",
       "    <th>0.091089</th>\n",
       "    <th>0.089022</th>\n",
       "    <th>0.714141</th>\n",
       "  </tr>\n",
       "  <tr>\n",
       "    <th>34</th>\n",
       "    <th>0.094715</th>\n",
       "    <th>0.089715</th>\n",
       "    <th>0.717320</th>\n",
       "  </tr>\n",
       "</table>\n",
       "\n",
       "\n",
       "    <div>\n",
       "        <style>\n",
       "            /* Turns off some styling */\n",
       "            progress {\n",
       "                /* gets rid of default border in Firefox and Opera. */\n",
       "                border: none;\n",
       "                /* Needs to be in here for Safari polyfill so background images work as expected. */\n",
       "                background-size: auto;\n",
       "            }\n",
       "            .progress-bar-interrupted, .progress-bar-interrupted::-webkit-progress-bar {\n",
       "                background: #F44336;\n",
       "            }\n",
       "        </style>\n",
       "      <progress value='263' class='' max='1158', style='width:300px; height:20px; vertical-align: middle;'></progress>\n",
       "      22.71% [263/1158 03:00<10:15 0.0900]\n",
       "    </div>\n",
       "    "
      ],
      "text/plain": [
       "<IPython.core.display.HTML object>"
      ]
     },
     "metadata": {},
     "output_type": "display_data"
    },
    {
     "name": "stdout",
     "output_type": "stream",
     "text": [
      "Epoch 18: reducing lr to 0.04000000000000001\n",
      "Epoch 29: reducing lr to 0.008000000000000002\n"
     ]
    }
   ],
   "source": [
    "learn.fit(50, lr=0.2)"
   ]
  },
  {
   "cell_type": "code",
   "execution_count": null,
   "metadata": {},
   "outputs": [],
   "source": [
    "learn.save(\"resnet50-gradaccu\")"
   ]
  },
  {
   "cell_type": "code",
   "execution_count": null,
   "metadata": {},
   "outputs": [],
   "source": [
    "preds, avg_pred, y = learn.TTA(beta=None, scale=1.05, ds_type=DatasetType.Test)\n",
    "\n",
    "pred_labels = [' '.join(list([str(i) for i in np.nonzero(row > 0.2)[0]])) for row in np.array(avg_pred)]\n",
    "df = pd.DataFrame({'Id':test_ids,'Predicted':pred_labels})\n",
    "df.to_csv(path/'resnet50_grad-avg_pred-0.2.csv', header=True, index=False)\n",
    "\n",
    "pred_labels = [' '.join(list([str(i) for i in np.nonzero(row > 0.2)[0]])) for row in np.array(preds)]\n",
    "df = pd.DataFrame({'Id':test_ids,'Predicted':pred_labels})\n",
    "df.to_csv(path/'resnet50_grad-preds_v1-0.2.csv', header=True, index=False)"
   ]
  },
  {
   "cell_type": "code",
   "execution_count": null,
   "metadata": {},
   "outputs": [],
   "source": [
    "pred_labels = [' '.join(list([str(i) for i in np.nonzero(row > 0.15)[0]])) for row in np.array(avg_pred)]\n",
    "df = pd.DataFrame({'Id':test_ids,'Predicted':pred_labels})\n",
    "df.to_csv(path/'resnet50_grad-avg_pred-0.1.csv', header=True, index=False)\n",
    "\n",
    "pred_labels = [' '.join(list([str(i) for i in np.nonzero(row > 0.15)[0]])) for row in np.array(preds)]\n",
    "df = pd.DataFrame({'Id':test_ids,'Predicted':pred_labels})\n",
    "df.to_csv(path/'resnet50_grad-preds_v1--0.1.csv', header=True, index=False)"
   ]
  },
  {
   "cell_type": "code",
   "execution_count": 99,
   "metadata": {},
   "outputs": [
    {
     "data": {
      "image/png": "[encoded data removed]",
      "text/plain": [
       "<Figure size 432x288 with 1 Axes>"
      ]
     },
     "metadata": {
      "needs_background": "light"
     },
     "output_type": "display_data"
    }
   ],
   "source": [
    "learn.recorder.plot_losses()"
   ]
  },
  {
   "cell_type": "code",
   "execution_count": 100,
   "metadata": {},
   "outputs": [
    {
     "data": {
      "image/png": "[encoded data removed]",
      "text/plain": [
       "<Figure size 432x288 with 1 Axes>"
      ]
     },
     "metadata": {
      "needs_background": "light"
     },
     "output_type": "display_data"
    }
   ],
   "source": [
    "learn.recorder.plot_lr()"
   ]
  },
  {
   "cell_type": "code",
   "execution_count": 101,
   "metadata": {},
   "outputs": [
    {
     "data": {
      "image/png": "[encoded data removed]",
      "text/plain": [
       "<Figure size 432x288 with 1 Axes>"
      ]
     },
     "metadata": {
      "needs_background": "light"
     },
     "output_type": "display_data"
    }
   ],
   "source": [
    "learn.recorder.plot_metrics()"
   ]
  },
  {
   "cell_type": "code",
   "execution_count": 46,
   "metadata": {},
   "outputs": [],
   "source": [
    "_ = learn.load(\"resnet50-gradaccu\")"
   ]
  },
  {
   "cell_type": "code",
   "execution_count": null,
   "metadata": {},
   "outputs": [
    {
     "data": {
      "text/html": [
       "\n",
       "    <div>\n",
       "        <style>\n",
       "            /* Turns off some styling */\n",
       "            progress {\n",
       "                /* gets rid of default border in Firefox and Opera. */\n",
       "                border: none;\n",
       "                /* Needs to be in here for Safari polyfill so background images work as expected. */\n",
       "                background-size: auto;\n",
       "            }\n",
       "            .progress-bar-interrupted, .progress-bar-interrupted::-webkit-progress-bar {\n",
       "                background: #F44336;\n",
       "            }\n",
       "        </style>\n",
       "      <progress value='20' class='' max='50', style='width:300px; height:20px; vertical-align: middle;'></progress>\n",
       "      40.00% [20/50 4:51:31<7:17:17]\n",
       "    </div>\n",
       "    \n",
       "<table style='width:300px; margin-bottom:10px'>\n",
       "  <tr>\n",
       "    <th>epoch</th>\n",
       "    <th>train_loss</th>\n",
       "    <th>valid_loss</th>\n",
       "    <th>fbeta</th>\n",
       "  </tr>\n",
       "  <tr>\n",
       "    <th>1</th>\n",
       "    <th>0.095875</th>\n",
       "    <th>0.102665</th>\n",
       "    <th>0.669146</th>\n",
       "  </tr>\n",
       "  <tr>\n",
       "    <th>2</th>\n",
       "    <th>0.095519</th>\n",
       "    <th>0.089696</th>\n",
       "    <th>0.705944</th>\n",
       "  </tr>\n",
       "  <tr>\n",
       "    <th>3</th>\n",
       "    <th>0.094760</th>\n",
       "    <th>0.093494</th>\n",
       "    <th>0.691264</th>\n",
       "  </tr>\n",
       "  <tr>\n",
       "    <th>4</th>\n",
       "    <th>0.093069</th>\n",
       "    <th>0.103376</th>\n",
       "    <th>0.667630</th>\n",
       "  </tr>\n",
       "  <tr>\n",
       "    <th>5</th>\n",
       "    <th>0.096752</th>\n",
       "    <th>0.100428</th>\n",
       "    <th>0.659992</th>\n",
       "  </tr>\n",
       "  <tr>\n",
       "    <th>6</th>\n",
       "    <th>0.093842</th>\n",
       "    <th>0.090722</th>\n",
       "    <th>0.707005</th>\n",
       "  </tr>\n",
       "  <tr>\n",
       "    <th>7</th>\n",
       "    <th>0.085545</th>\n",
       "    <th>0.081663</th>\n",
       "    <th>0.744795</th>\n",
       "  </tr>\n",
       "  <tr>\n",
       "    <th>8</th>\n",
       "    <th>0.086302</th>\n",
       "    <th>0.080876</th>\n",
       "    <th>0.746172</th>\n",
       "  </tr>\n",
       "  <tr>\n",
       "    <th>9</th>\n",
       "    <th>0.084467</th>\n",
       "    <th>0.080963</th>\n",
       "    <th>0.754046</th>\n",
       "  </tr>\n",
       "  <tr>\n",
       "    <th>10</th>\n",
       "    <th>0.084217</th>\n",
       "    <th>0.078754</th>\n",
       "    <th>0.755242</th>\n",
       "  </tr>\n",
       "  <tr>\n",
       "    <th>11</th>\n",
       "    <th>0.085288</th>\n",
       "    <th>0.079674</th>\n",
       "    <th>0.747149</th>\n",
       "  </tr>\n",
       "  <tr>\n",
       "    <th>12</th>\n",
       "    <th>0.083845</th>\n",
       "    <th>0.079304</th>\n",
       "    <th>0.753867</th>\n",
       "  </tr>\n",
       "  <tr>\n",
       "    <th>13</th>\n",
       "    <th>0.085468</th>\n",
       "    <th>0.078683</th>\n",
       "    <th>0.749812</th>\n",
       "  </tr>\n",
       "  <tr>\n",
       "    <th>14</th>\n",
       "    <th>0.082461</th>\n",
       "    <th>0.079551</th>\n",
       "    <th>0.755415</th>\n",
       "  </tr>\n",
       "  <tr>\n",
       "    <th>15</th>\n",
       "    <th>0.083793</th>\n",
       "    <th>0.078345</th>\n",
       "    <th>0.749463</th>\n",
       "  </tr>\n",
       "  <tr>\n",
       "    <th>16</th>\n",
       "    <th>0.082059</th>\n",
       "    <th>0.080359</th>\n",
       "    <th>0.749626</th>\n",
       "  </tr>\n",
       "  <tr>\n",
       "    <th>17</th>\n",
       "    <th>0.084514</th>\n",
       "    <th>0.077505</th>\n",
       "    <th>0.754216</th>\n",
       "  </tr>\n",
       "  <tr>\n",
       "    <th>18</th>\n",
       "    <th>0.083397</th>\n",
       "    <th>0.079255</th>\n",
       "    <th>0.749114</th>\n",
       "  </tr>\n",
       "  <tr>\n",
       "    <th>19</th>\n",
       "    <th>0.081700</th>\n",
       "    <th>0.077585</th>\n",
       "    <th>0.756918</th>\n",
       "  </tr>\n",
       "  <tr>\n",
       "    <th>20</th>\n",
       "    <th>0.082880</th>\n",
       "    <th>0.077585</th>\n",
       "    <th>0.755094</th>\n",
       "  </tr>\n",
       "</table>\n",
       "\n",
       "\n",
       "    <div>\n",
       "        <style>\n",
       "            /* Turns off some styling */\n",
       "            progress {\n",
       "                /* gets rid of default border in Firefox and Opera. */\n",
       "                border: none;\n",
       "                /* Needs to be in here for Safari polyfill so background images work as expected. */\n",
       "                background-size: auto;\n",
       "            }\n",
       "            .progress-bar-interrupted, .progress-bar-interrupted::-webkit-progress-bar {\n",
       "                background: #F44336;\n",
       "            }\n",
       "        </style>\n",
       "      <progress value='188' class='' max='1158', style='width:300px; height:20px; vertical-align: middle;'></progress>\n",
       "      16.23% [188/1158 02:06<10:50 0.0822]\n",
       "    </div>\n",
       "    "
      ],
      "text/plain": [
       "<IPython.core.display.HTML object>"
      ]
     },
     "metadata": {},
     "output_type": "display_data"
    },
    {
     "name": "stdout",
     "output_type": "stream",
     "text": [
      "Epoch 6: reducing lr to 0.004\n"
     ]
    }
   ],
   "source": [
    "learn.fit(50, lr=0.02)"
   ]
  },
  {
   "cell_type": "code",
   "execution_count": null,
   "metadata": {},
   "outputs": [],
   "source": []
  }
 ],
 "metadata": {
  "kernelspec": {
   "display_name": "Python 3",
   "language": "python",
   "name": "python3"
  },
  "language_info": {
   "codemirror_mode": {
    "name": "ipython",
    "version": 3
   },
   "file_extension": ".py",
   "mimetype": "text/x-python",
   "name": "python",
   "nbconvert_exporter": "python",
   "pygments_lexer": "ipython3",
   "version": "3.6.7"
  }
 },
 "nbformat": 4,
 "nbformat_minor": 2
}
