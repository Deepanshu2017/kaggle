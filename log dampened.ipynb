{
 "cells": [
  {
   "cell_type": "code",
   "execution_count": 1,
   "metadata": {},
   "outputs": [],
   "source": [
    "from fastai import *\n",
    "from fastai.vision import *\n",
    "from fastai.vision.image import *\n",
    "\n",
    "import torch\n",
    "import torch.nn as nn\n",
    "import torchvision\n",
    "import torch.nn.functional as F\n",
    "from torch.autograd import Variable\n",
    "\n",
    "import os\n",
    "import cv2\n",
    "\n",
    "from sklearn.model_selection import StratifiedKFold\n",
    "from sklearn.preprocessing import MultiLabelBinarizer\n",
    "from sklearn.utils import class_weight\n",
    "import scipy.optimize as opt\n",
    "from sklearn.metrics import f1_score\n",
    "\n",
    "import math\n",
    "import cv2\n",
    "import subprocess\n",
    "from operator import itemgetter"
   ]
  },
  {
   "cell_type": "code",
   "execution_count": 2,
   "metadata": {},
   "outputs": [
    {
     "name": "stdout",
     "output_type": "stream",
     "text": [
      "\n",
      "True class weights:\n",
      "{0: 3.94, 1: 40.5, 2: 14.02, 3: 32.53, 4: 27.33, 5: 20.21, 6: 50.38, 7: 18.0, 8: 958.15, 9: 1128.49, 10: 1813.64, 11: 46.46, 12: 73.81, 13: 94.57, 14: 47.64, 15: 2418.19, 16: 95.82, 17: 241.82, 18: 56.3, 19: 34.27, 20: 295.24, 21: 13.45, 22: 63.32, 23: 17.13, 24: 157.71, 25: 6.17, 26: 154.82, 27: 4616.55}\n",
      "\n",
      "Log-dampened class weights:{0: 1.0, 1: 3.01, 2: 1.95, 3: 2.79, 4: 2.61, 5: 2.31, 6: 3.23, 7: 2.2, 8: 6.17, 9: 6.34, 10: 6.81, 11: 3.15, 12: 3.61, 13: 3.86, 14: 3.17, 15: 7.1, 16: 3.87, 17: 4.8, 18: 3.34, 19: 2.84, 20: 4.99, 21: 1.91, 22: 3.46, 23: 2.15, 24: 4.37, 25: 1.13, 26: 4.35, 27: 7.74}\n"
     ]
    }
   ],
   "source": [
    "def create_class_weight(labels_dict, mu=0.5):\n",
    "    total = np.sum(list(labels_dict.values()))\n",
    "    keys = labels_dict.keys()\n",
    "    class_weight = dict()\n",
    "    class_weight_log = dict()\n",
    "\n",
    "    for key in keys:\n",
    "        score = total / float(labels_dict[key])\n",
    "        score_log = math.log(mu * total / float(labels_dict[key]))\n",
    "        class_weight[key] = round(score, 2) if score > 1.0 else round(1.0, 2)\n",
    "        class_weight_log[key] = round(score_log, 2) if score_log > 1.0 else round(1.0, 2)\n",
    "\n",
    "    return class_weight, class_weight_log\n",
    "\n",
    "# Class abundance for protein dataset\n",
    "labels_dict = {\n",
    "    0: 12885,\n",
    "    1: 1254,\n",
    "    2: 3621,\n",
    "    3: 1561,\n",
    "    4: 1858,\n",
    "    5: 2513,\n",
    "    6: 1008,\n",
    "    7: 2822,\n",
    "    8: 53,\n",
    "    9: 45,\n",
    "    10: 28,\n",
    "    11: 1093,\n",
    "    12: 688,\n",
    "    13: 537,\n",
    "    14: 1066,\n",
    "    15: 21,\n",
    "    16: 530,\n",
    "    17: 210,\n",
    "    18: 902,\n",
    "    19: 1482,\n",
    "    20: 172,\n",
    "    21: 3777,\n",
    "    22: 802,\n",
    "    23: 2965,\n",
    "    24: 322,\n",
    "    25: 8228,\n",
    "    26: 328,\n",
    "    27: 11\n",
    "}\n",
    "\n",
    "print('\\nTrue class weights:')\n",
    "print(create_class_weight(labels_dict)[0])\n",
    "print('\\nLog-dampened class weights:', end='')\n",
    "weights = create_class_weight(labels_dict)[1]\n",
    "print(weights)"
   ]
  },
  {
   "cell_type": "code",
   "execution_count": 3,
   "metadata": {},
   "outputs": [
    {
     "name": "stdout",
     "output_type": "stream",
     "text": [
      "[1.0, 3.01, 1.95, 2.79, 2.61, 2.31, 3.23, 2.2, 6.17, 6.34, 6.81, 3.15, 3.61, 3.86, 3.17, 7.1, 3.87, 4.8, 3.34, 2.84, 4.99, 1.91, 3.46, 2.15, 4.37, 1.13, 4.35, 7.74]\n"
     ]
    }
   ],
   "source": [
    "class_weights = [weights[i] for i in range(28)]\n",
    "print(class_weights)"
   ]
  },
  {
   "cell_type": "code",
   "execution_count": 4,
   "metadata": {},
   "outputs": [],
   "source": [
    "weighted_cross_entropy = partial(F.binary_cross_entropy_with_logits, \n",
    "                                 weight=to_device(torch.tensor(class_weights), data.device))"
   ]
  },
  {
   "cell_type": "code",
   "execution_count": null,
   "metadata": {},
   "outputs": [],
   "source": []
  }
 ],
 "metadata": {
  "kernelspec": {
   "display_name": "Python 3",
   "language": "python",
   "name": "python3"
  },
  "language_info": {
   "codemirror_mode": {
    "name": "ipython",
    "version": 3
   },
   "file_extension": ".py",
   "mimetype": "text/x-python",
   "name": "python",
   "nbconvert_exporter": "python",
   "pygments_lexer": "ipython3",
   "version": "3.6.6"
  }
 },
 "nbformat": 4,
 "nbformat_minor": 2
}
